{
 "cells": [
  {
   "cell_type": "code",
   "execution_count": 2,
   "metadata": {},
   "outputs": [],
   "source": [
    "import numpy as np\n",
    "import pandas as pd\n",
    "import matplotlib.pyplot as plt\n",
    "from sklearn import metrics\n",
    "from sklearn.metrics import accuracy_score, roc_auc_score\n",
    "from sklearn.model_selection import cross_validate\n",
    "from sklearn.model_selection import GridSearchCV"
   ]
  },
  {
   "cell_type": "code",
   "execution_count": 3,
   "metadata": {},
   "outputs": [
    {
     "data": {
      "text/html": [
       "<div>\n",
       "<style scoped>\n",
       "    .dataframe tbody tr th:only-of-type {\n",
       "        vertical-align: middle;\n",
       "    }\n",
       "\n",
       "    .dataframe tbody tr th {\n",
       "        vertical-align: top;\n",
       "    }\n",
       "\n",
       "    .dataframe thead th {\n",
       "        text-align: right;\n",
       "    }\n",
       "</style>\n",
       "<table border=\"1\" class=\"dataframe\">\n",
       "  <thead>\n",
       "    <tr style=\"text-align: right;\">\n",
       "      <th></th>\n",
       "      <th>Time</th>\n",
       "      <th>V1</th>\n",
       "      <th>V2</th>\n",
       "      <th>V3</th>\n",
       "      <th>V4</th>\n",
       "      <th>V5</th>\n",
       "      <th>V6</th>\n",
       "      <th>V7</th>\n",
       "      <th>V8</th>\n",
       "      <th>V9</th>\n",
       "      <th>...</th>\n",
       "      <th>V21</th>\n",
       "      <th>V22</th>\n",
       "      <th>V23</th>\n",
       "      <th>V24</th>\n",
       "      <th>V25</th>\n",
       "      <th>V26</th>\n",
       "      <th>V27</th>\n",
       "      <th>V28</th>\n",
       "      <th>Amount</th>\n",
       "      <th>Class</th>\n",
       "    </tr>\n",
       "  </thead>\n",
       "  <tbody>\n",
       "    <tr>\n",
       "      <th>0</th>\n",
       "      <td>0.0</td>\n",
       "      <td>-1.359807</td>\n",
       "      <td>-0.072781</td>\n",
       "      <td>2.536347</td>\n",
       "      <td>1.378155</td>\n",
       "      <td>-0.338321</td>\n",
       "      <td>0.462388</td>\n",
       "      <td>0.239599</td>\n",
       "      <td>0.098698</td>\n",
       "      <td>0.363787</td>\n",
       "      <td>...</td>\n",
       "      <td>-0.018307</td>\n",
       "      <td>0.277838</td>\n",
       "      <td>-0.110474</td>\n",
       "      <td>0.066928</td>\n",
       "      <td>0.128539</td>\n",
       "      <td>-0.189115</td>\n",
       "      <td>0.133558</td>\n",
       "      <td>-0.021053</td>\n",
       "      <td>149.62</td>\n",
       "      <td>0</td>\n",
       "    </tr>\n",
       "    <tr>\n",
       "      <th>1</th>\n",
       "      <td>0.0</td>\n",
       "      <td>1.191857</td>\n",
       "      <td>0.266151</td>\n",
       "      <td>0.166480</td>\n",
       "      <td>0.448154</td>\n",
       "      <td>0.060018</td>\n",
       "      <td>-0.082361</td>\n",
       "      <td>-0.078803</td>\n",
       "      <td>0.085102</td>\n",
       "      <td>-0.255425</td>\n",
       "      <td>...</td>\n",
       "      <td>-0.225775</td>\n",
       "      <td>-0.638672</td>\n",
       "      <td>0.101288</td>\n",
       "      <td>-0.339846</td>\n",
       "      <td>0.167170</td>\n",
       "      <td>0.125895</td>\n",
       "      <td>-0.008983</td>\n",
       "      <td>0.014724</td>\n",
       "      <td>2.69</td>\n",
       "      <td>0</td>\n",
       "    </tr>\n",
       "    <tr>\n",
       "      <th>2</th>\n",
       "      <td>1.0</td>\n",
       "      <td>-1.358354</td>\n",
       "      <td>-1.340163</td>\n",
       "      <td>1.773209</td>\n",
       "      <td>0.379780</td>\n",
       "      <td>-0.503198</td>\n",
       "      <td>1.800499</td>\n",
       "      <td>0.791461</td>\n",
       "      <td>0.247676</td>\n",
       "      <td>-1.514654</td>\n",
       "      <td>...</td>\n",
       "      <td>0.247998</td>\n",
       "      <td>0.771679</td>\n",
       "      <td>0.909412</td>\n",
       "      <td>-0.689281</td>\n",
       "      <td>-0.327642</td>\n",
       "      <td>-0.139097</td>\n",
       "      <td>-0.055353</td>\n",
       "      <td>-0.059752</td>\n",
       "      <td>378.66</td>\n",
       "      <td>0</td>\n",
       "    </tr>\n",
       "    <tr>\n",
       "      <th>3</th>\n",
       "      <td>1.0</td>\n",
       "      <td>-0.966272</td>\n",
       "      <td>-0.185226</td>\n",
       "      <td>1.792993</td>\n",
       "      <td>-0.863291</td>\n",
       "      <td>-0.010309</td>\n",
       "      <td>1.247203</td>\n",
       "      <td>0.237609</td>\n",
       "      <td>0.377436</td>\n",
       "      <td>-1.387024</td>\n",
       "      <td>...</td>\n",
       "      <td>-0.108300</td>\n",
       "      <td>0.005274</td>\n",
       "      <td>-0.190321</td>\n",
       "      <td>-1.175575</td>\n",
       "      <td>0.647376</td>\n",
       "      <td>-0.221929</td>\n",
       "      <td>0.062723</td>\n",
       "      <td>0.061458</td>\n",
       "      <td>123.50</td>\n",
       "      <td>0</td>\n",
       "    </tr>\n",
       "    <tr>\n",
       "      <th>4</th>\n",
       "      <td>2.0</td>\n",
       "      <td>-1.158233</td>\n",
       "      <td>0.877737</td>\n",
       "      <td>1.548718</td>\n",
       "      <td>0.403034</td>\n",
       "      <td>-0.407193</td>\n",
       "      <td>0.095921</td>\n",
       "      <td>0.592941</td>\n",
       "      <td>-0.270533</td>\n",
       "      <td>0.817739</td>\n",
       "      <td>...</td>\n",
       "      <td>-0.009431</td>\n",
       "      <td>0.798278</td>\n",
       "      <td>-0.137458</td>\n",
       "      <td>0.141267</td>\n",
       "      <td>-0.206010</td>\n",
       "      <td>0.502292</td>\n",
       "      <td>0.219422</td>\n",
       "      <td>0.215153</td>\n",
       "      <td>69.99</td>\n",
       "      <td>0</td>\n",
       "    </tr>\n",
       "  </tbody>\n",
       "</table>\n",
       "<p>5 rows × 31 columns</p>\n",
       "</div>"
      ],
      "text/plain": [
       "   Time        V1        V2        V3        V4        V5        V6        V7  \\\n",
       "0   0.0 -1.359807 -0.072781  2.536347  1.378155 -0.338321  0.462388  0.239599   \n",
       "1   0.0  1.191857  0.266151  0.166480  0.448154  0.060018 -0.082361 -0.078803   \n",
       "2   1.0 -1.358354 -1.340163  1.773209  0.379780 -0.503198  1.800499  0.791461   \n",
       "3   1.0 -0.966272 -0.185226  1.792993 -0.863291 -0.010309  1.247203  0.237609   \n",
       "4   2.0 -1.158233  0.877737  1.548718  0.403034 -0.407193  0.095921  0.592941   \n",
       "\n",
       "         V8        V9  ...       V21       V22       V23       V24       V25  \\\n",
       "0  0.098698  0.363787  ... -0.018307  0.277838 -0.110474  0.066928  0.128539   \n",
       "1  0.085102 -0.255425  ... -0.225775 -0.638672  0.101288 -0.339846  0.167170   \n",
       "2  0.247676 -1.514654  ...  0.247998  0.771679  0.909412 -0.689281 -0.327642   \n",
       "3  0.377436 -1.387024  ... -0.108300  0.005274 -0.190321 -1.175575  0.647376   \n",
       "4 -0.270533  0.817739  ... -0.009431  0.798278 -0.137458  0.141267 -0.206010   \n",
       "\n",
       "        V26       V27       V28  Amount  Class  \n",
       "0 -0.189115  0.133558 -0.021053  149.62      0  \n",
       "1  0.125895 -0.008983  0.014724    2.69      0  \n",
       "2 -0.139097 -0.055353 -0.059752  378.66      0  \n",
       "3 -0.221929  0.062723  0.061458  123.50      0  \n",
       "4  0.502292  0.219422  0.215153   69.99      0  \n",
       "\n",
       "[5 rows x 31 columns]"
      ]
     },
     "execution_count": 3,
     "metadata": {},
     "output_type": "execute_result"
    }
   ],
   "source": [
    "data = pd.read_csv('C:\\\\Users\\\\sm\\\\Documents\\\\Data science\\\\Examples\\\\data-flair projects\\\\Credit card fraud detection\\\\creditcard.csv')\n",
    "data.head()"
   ]
  },
  {
   "cell_type": "code",
   "execution_count": 4,
   "metadata": {
    "scrolled": true
   },
   "outputs": [
    {
     "data": {
      "text/plain": [
       "(284807, 31)"
      ]
     },
     "execution_count": 4,
     "metadata": {},
     "output_type": "execute_result"
    }
   ],
   "source": [
    "data.shape"
   ]
  },
  {
   "cell_type": "code",
   "execution_count": 5,
   "metadata": {},
   "outputs": [
    {
     "data": {
      "text/plain": [
       "0    284315\n",
       "1       492\n",
       "Name: Class, dtype: int64"
      ]
     },
     "execution_count": 5,
     "metadata": {},
     "output_type": "execute_result"
    }
   ],
   "source": [
    "# data.info()\n",
    "#data.describe()\n",
    "#data.columns\n",
    "#data.nunique()\n",
    "#data['Class'].unique()\n",
    "data.Class.value_counts()"
   ]
  },
  {
   "cell_type": "code",
   "execution_count": 31,
   "metadata": {},
   "outputs": [],
   "source": [
    "#data.select_dtypes(exclude=[np.number])\n",
    "#data.isnull().sum().sort_values(ascending=False)"
   ]
  },
  {
   "cell_type": "code",
   "execution_count": 6,
   "metadata": {},
   "outputs": [
    {
     "name": "stdout",
     "output_type": "stream",
     "text": [
      "StandardScaler()\n"
     ]
    }
   ],
   "source": [
    "from sklearn.preprocessing import StandardScaler\n",
    "\n",
    "scaler = StandardScaler()\n",
    "\n",
    "d=data['Amount'].values\n",
    "print(scaler.fit(d.reshape(-1,1)))"
   ]
  },
  {
   "cell_type": "code",
   "execution_count": 7,
   "metadata": {
    "scrolled": true
   },
   "outputs": [],
   "source": [
    "d1=scaler.transform(d.reshape(-1,1))"
   ]
  },
  {
   "cell_type": "code",
   "execution_count": 8,
   "metadata": {},
   "outputs": [],
   "source": [
    "data1 = data\n",
    "data1['Scaled_Amount'] = d1"
   ]
  },
  {
   "cell_type": "code",
   "execution_count": 9,
   "metadata": {
    "scrolled": true
   },
   "outputs": [],
   "source": [
    "data1=data1.drop(['Amount'], axis=1)"
   ]
  },
  {
   "cell_type": "code",
   "execution_count": 10,
   "metadata": {},
   "outputs": [],
   "source": [
    "s=data1.drop(['Class'], axis=1)"
   ]
  },
  {
   "cell_type": "code",
   "execution_count": 11,
   "metadata": {},
   "outputs": [],
   "source": [
    "from sklearn.model_selection import train_test_split\n",
    "x_train, x_test, y_train, y_test = train_test_split(s, data['Class'], test_size = 0.23, random_state=2)"
   ]
  },
  {
   "cell_type": "markdown",
   "metadata": {},
   "source": [
    "## Logistic Regression"
   ]
  },
  {
   "cell_type": "code",
   "execution_count": 129,
   "metadata": {},
   "outputs": [
    {
     "data": {
      "text/plain": [
       "LogisticRegression(max_iter=500)"
      ]
     },
     "execution_count": 129,
     "metadata": {},
     "output_type": "execute_result"
    }
   ],
   "source": [
    "from sklearn.linear_model import LogisticRegression\n",
    "\n",
    "reg = LogisticRegression( max_iter=500)\n",
    "reg.fit(x_train,y_train)"
   ]
  },
  {
   "cell_type": "code",
   "execution_count": 130,
   "metadata": {},
   "outputs": [
    {
     "data": {
      "text/html": [
       "<div>\n",
       "<style scoped>\n",
       "    .dataframe tbody tr th:only-of-type {\n",
       "        vertical-align: middle;\n",
       "    }\n",
       "\n",
       "    .dataframe tbody tr th {\n",
       "        vertical-align: top;\n",
       "    }\n",
       "\n",
       "    .dataframe thead th {\n",
       "        text-align: right;\n",
       "    }\n",
       "</style>\n",
       "<table border=\"1\" class=\"dataframe\">\n",
       "  <thead>\n",
       "    <tr style=\"text-align: right;\">\n",
       "      <th></th>\n",
       "      <th>Time</th>\n",
       "      <th>V1</th>\n",
       "      <th>V2</th>\n",
       "      <th>V3</th>\n",
       "      <th>V4</th>\n",
       "      <th>V5</th>\n",
       "      <th>V6</th>\n",
       "      <th>V7</th>\n",
       "      <th>V8</th>\n",
       "      <th>V9</th>\n",
       "      <th>...</th>\n",
       "      <th>V20</th>\n",
       "      <th>V21</th>\n",
       "      <th>V22</th>\n",
       "      <th>V23</th>\n",
       "      <th>V24</th>\n",
       "      <th>V25</th>\n",
       "      <th>V26</th>\n",
       "      <th>V27</th>\n",
       "      <th>V28</th>\n",
       "      <th>Scaled_Amount</th>\n",
       "    </tr>\n",
       "  </thead>\n",
       "  <tbody>\n",
       "    <tr>\n",
       "      <th>225184</th>\n",
       "      <td>144140.0</td>\n",
       "      <td>-0.581460</td>\n",
       "      <td>0.950267</td>\n",
       "      <td>0.115938</td>\n",
       "      <td>-1.384767</td>\n",
       "      <td>1.388364</td>\n",
       "      <td>-1.595678</td>\n",
       "      <td>2.120867</td>\n",
       "      <td>-0.718954</td>\n",
       "      <td>-0.205211</td>\n",
       "      <td>...</td>\n",
       "      <td>-0.292792</td>\n",
       "      <td>0.153480</td>\n",
       "      <td>0.656548</td>\n",
       "      <td>-0.514192</td>\n",
       "      <td>0.077220</td>\n",
       "      <td>0.736220</td>\n",
       "      <td>-0.302469</td>\n",
       "      <td>-0.254862</td>\n",
       "      <td>-0.126279</td>\n",
       "      <td>-0.301974</td>\n",
       "    </tr>\n",
       "    <tr>\n",
       "      <th>116637</th>\n",
       "      <td>74369.0</td>\n",
       "      <td>0.686730</td>\n",
       "      <td>-0.785586</td>\n",
       "      <td>0.945092</td>\n",
       "      <td>1.476634</td>\n",
       "      <td>-1.191074</td>\n",
       "      <td>-0.193185</td>\n",
       "      <td>-0.217963</td>\n",
       "      <td>-0.011827</td>\n",
       "      <td>0.727172</td>\n",
       "      <td>...</td>\n",
       "      <td>0.388521</td>\n",
       "      <td>0.277960</td>\n",
       "      <td>0.419683</td>\n",
       "      <td>-0.314303</td>\n",
       "      <td>0.427369</td>\n",
       "      <td>0.426733</td>\n",
       "      <td>-0.285560</td>\n",
       "      <td>0.022906</td>\n",
       "      <td>0.079838</td>\n",
       "      <td>0.671840</td>\n",
       "    </tr>\n",
       "    <tr>\n",
       "      <th>99414</th>\n",
       "      <td>67107.0</td>\n",
       "      <td>-0.848395</td>\n",
       "      <td>1.214313</td>\n",
       "      <td>0.954869</td>\n",
       "      <td>-0.030145</td>\n",
       "      <td>-0.177527</td>\n",
       "      <td>-0.851855</td>\n",
       "      <td>0.444232</td>\n",
       "      <td>0.369063</td>\n",
       "      <td>-1.005181</td>\n",
       "      <td>...</td>\n",
       "      <td>0.079630</td>\n",
       "      <td>0.205928</td>\n",
       "      <td>0.552455</td>\n",
       "      <td>-0.064845</td>\n",
       "      <td>0.590082</td>\n",
       "      <td>-0.271787</td>\n",
       "      <td>0.276440</td>\n",
       "      <td>0.217840</td>\n",
       "      <td>0.127724</td>\n",
       "      <td>-0.287501</td>\n",
       "    </tr>\n",
       "    <tr>\n",
       "      <th>217619</th>\n",
       "      <td>140965.0</td>\n",
       "      <td>-1.104465</td>\n",
       "      <td>0.616952</td>\n",
       "      <td>-0.878973</td>\n",
       "      <td>-0.312839</td>\n",
       "      <td>-0.092112</td>\n",
       "      <td>-0.020623</td>\n",
       "      <td>1.422463</td>\n",
       "      <td>0.442278</td>\n",
       "      <td>-0.406603</td>\n",
       "      <td>...</td>\n",
       "      <td>0.511897</td>\n",
       "      <td>0.265005</td>\n",
       "      <td>0.438796</td>\n",
       "      <td>0.413781</td>\n",
       "      <td>0.649776</td>\n",
       "      <td>-0.082746</td>\n",
       "      <td>0.520578</td>\n",
       "      <td>0.151103</td>\n",
       "      <td>0.216899</td>\n",
       "      <td>0.726254</td>\n",
       "    </tr>\n",
       "    <tr>\n",
       "      <th>279878</th>\n",
       "      <td>169155.0</td>\n",
       "      <td>2.061985</td>\n",
       "      <td>-0.114758</td>\n",
       "      <td>-1.079406</td>\n",
       "      <td>0.427062</td>\n",
       "      <td>-0.229701</td>\n",
       "      <td>-1.241109</td>\n",
       "      <td>0.121975</td>\n",
       "      <td>-0.283331</td>\n",
       "      <td>0.679923</td>\n",
       "      <td>...</td>\n",
       "      <td>-0.284520</td>\n",
       "      <td>-0.299538</td>\n",
       "      <td>-0.772333</td>\n",
       "      <td>0.352777</td>\n",
       "      <td>0.021161</td>\n",
       "      <td>-0.330437</td>\n",
       "      <td>0.198512</td>\n",
       "      <td>-0.076625</td>\n",
       "      <td>-0.061905</td>\n",
       "      <td>-0.348072</td>\n",
       "    </tr>\n",
       "    <tr>\n",
       "      <th>65395</th>\n",
       "      <td>51563.0</td>\n",
       "      <td>1.244227</td>\n",
       "      <td>-0.101440</td>\n",
       "      <td>0.099086</td>\n",
       "      <td>0.054900</td>\n",
       "      <td>-0.468767</td>\n",
       "      <td>-0.918947</td>\n",
       "      <td>0.022217</td>\n",
       "      <td>-0.210206</td>\n",
       "      <td>0.260107</td>\n",
       "      <td>...</td>\n",
       "      <td>-0.006477</td>\n",
       "      <td>0.012270</td>\n",
       "      <td>-0.034518</td>\n",
       "      <td>-0.120869</td>\n",
       "      <td>0.108345</td>\n",
       "      <td>0.401389</td>\n",
       "      <td>1.089648</td>\n",
       "      <td>-0.095310</td>\n",
       "      <td>0.003413</td>\n",
       "      <td>-0.179912</td>\n",
       "    </tr>\n",
       "    <tr>\n",
       "      <th>242975</th>\n",
       "      <td>151739.0</td>\n",
       "      <td>0.303629</td>\n",
       "      <td>0.715442</td>\n",
       "      <td>0.214757</td>\n",
       "      <td>-0.241157</td>\n",
       "      <td>0.331445</td>\n",
       "      <td>-1.079975</td>\n",
       "      <td>0.893378</td>\n",
       "      <td>-0.232996</td>\n",
       "      <td>-0.079911</td>\n",
       "      <td>...</td>\n",
       "      <td>-0.178844</td>\n",
       "      <td>-0.183558</td>\n",
       "      <td>-0.451898</td>\n",
       "      <td>0.148788</td>\n",
       "      <td>0.032878</td>\n",
       "      <td>-0.964023</td>\n",
       "      <td>0.141797</td>\n",
       "      <td>0.074757</td>\n",
       "      <td>0.099186</td>\n",
       "      <td>-0.349671</td>\n",
       "    </tr>\n",
       "    <tr>\n",
       "      <th>87590</th>\n",
       "      <td>61752.0</td>\n",
       "      <td>-3.570175</td>\n",
       "      <td>-0.267229</td>\n",
       "      <td>-1.224934</td>\n",
       "      <td>0.079427</td>\n",
       "      <td>0.707277</td>\n",
       "      <td>0.236304</td>\n",
       "      <td>-0.673688</td>\n",
       "      <td>1.188933</td>\n",
       "      <td>-0.391817</td>\n",
       "      <td>...</td>\n",
       "      <td>-1.232241</td>\n",
       "      <td>0.013297</td>\n",
       "      <td>-0.159708</td>\n",
       "      <td>-1.214678</td>\n",
       "      <td>-1.625537</td>\n",
       "      <td>-0.677161</td>\n",
       "      <td>-0.714352</td>\n",
       "      <td>-0.387393</td>\n",
       "      <td>-0.434543</td>\n",
       "      <td>0.034505</td>\n",
       "    </tr>\n",
       "    <tr>\n",
       "      <th>9682</th>\n",
       "      <td>14460.0</td>\n",
       "      <td>-0.647246</td>\n",
       "      <td>-0.109592</td>\n",
       "      <td>2.025804</td>\n",
       "      <td>0.151322</td>\n",
       "      <td>0.717499</td>\n",
       "      <td>0.035661</td>\n",
       "      <td>-0.292713</td>\n",
       "      <td>-0.002243</td>\n",
       "      <td>0.931187</td>\n",
       "      <td>...</td>\n",
       "      <td>0.359450</td>\n",
       "      <td>0.112957</td>\n",
       "      <td>0.601418</td>\n",
       "      <td>-0.029290</td>\n",
       "      <td>-0.265326</td>\n",
       "      <td>-0.649369</td>\n",
       "      <td>1.105885</td>\n",
       "      <td>-0.116723</td>\n",
       "      <td>-0.094106</td>\n",
       "      <td>-0.289460</td>\n",
       "    </tr>\n",
       "    <tr>\n",
       "      <th>223491</th>\n",
       "      <td>143406.0</td>\n",
       "      <td>-0.157844</td>\n",
       "      <td>1.136928</td>\n",
       "      <td>-0.610240</td>\n",
       "      <td>0.536476</td>\n",
       "      <td>0.957214</td>\n",
       "      <td>0.213690</td>\n",
       "      <td>0.696157</td>\n",
       "      <td>0.308939</td>\n",
       "      <td>-0.347100</td>\n",
       "      <td>...</td>\n",
       "      <td>-0.181837</td>\n",
       "      <td>0.358220</td>\n",
       "      <td>1.211744</td>\n",
       "      <td>-0.145614</td>\n",
       "      <td>0.082425</td>\n",
       "      <td>-0.517143</td>\n",
       "      <td>-0.491332</td>\n",
       "      <td>0.174666</td>\n",
       "      <td>0.204779</td>\n",
       "      <td>-0.268150</td>\n",
       "    </tr>\n",
       "  </tbody>\n",
       "</table>\n",
       "<p>10 rows × 30 columns</p>\n",
       "</div>"
      ],
      "text/plain": [
       "            Time        V1        V2        V3        V4        V5        V6  \\\n",
       "225184  144140.0 -0.581460  0.950267  0.115938 -1.384767  1.388364 -1.595678   \n",
       "116637   74369.0  0.686730 -0.785586  0.945092  1.476634 -1.191074 -0.193185   \n",
       "99414    67107.0 -0.848395  1.214313  0.954869 -0.030145 -0.177527 -0.851855   \n",
       "217619  140965.0 -1.104465  0.616952 -0.878973 -0.312839 -0.092112 -0.020623   \n",
       "279878  169155.0  2.061985 -0.114758 -1.079406  0.427062 -0.229701 -1.241109   \n",
       "65395    51563.0  1.244227 -0.101440  0.099086  0.054900 -0.468767 -0.918947   \n",
       "242975  151739.0  0.303629  0.715442  0.214757 -0.241157  0.331445 -1.079975   \n",
       "87590    61752.0 -3.570175 -0.267229 -1.224934  0.079427  0.707277  0.236304   \n",
       "9682     14460.0 -0.647246 -0.109592  2.025804  0.151322  0.717499  0.035661   \n",
       "223491  143406.0 -0.157844  1.136928 -0.610240  0.536476  0.957214  0.213690   \n",
       "\n",
       "              V7        V8        V9  ...       V20       V21       V22  \\\n",
       "225184  2.120867 -0.718954 -0.205211  ... -0.292792  0.153480  0.656548   \n",
       "116637 -0.217963 -0.011827  0.727172  ...  0.388521  0.277960  0.419683   \n",
       "99414   0.444232  0.369063 -1.005181  ...  0.079630  0.205928  0.552455   \n",
       "217619  1.422463  0.442278 -0.406603  ...  0.511897  0.265005  0.438796   \n",
       "279878  0.121975 -0.283331  0.679923  ... -0.284520 -0.299538 -0.772333   \n",
       "65395   0.022217 -0.210206  0.260107  ... -0.006477  0.012270 -0.034518   \n",
       "242975  0.893378 -0.232996 -0.079911  ... -0.178844 -0.183558 -0.451898   \n",
       "87590  -0.673688  1.188933 -0.391817  ... -1.232241  0.013297 -0.159708   \n",
       "9682   -0.292713 -0.002243  0.931187  ...  0.359450  0.112957  0.601418   \n",
       "223491  0.696157  0.308939 -0.347100  ... -0.181837  0.358220  1.211744   \n",
       "\n",
       "             V23       V24       V25       V26       V27       V28  \\\n",
       "225184 -0.514192  0.077220  0.736220 -0.302469 -0.254862 -0.126279   \n",
       "116637 -0.314303  0.427369  0.426733 -0.285560  0.022906  0.079838   \n",
       "99414  -0.064845  0.590082 -0.271787  0.276440  0.217840  0.127724   \n",
       "217619  0.413781  0.649776 -0.082746  0.520578  0.151103  0.216899   \n",
       "279878  0.352777  0.021161 -0.330437  0.198512 -0.076625 -0.061905   \n",
       "65395  -0.120869  0.108345  0.401389  1.089648 -0.095310  0.003413   \n",
       "242975  0.148788  0.032878 -0.964023  0.141797  0.074757  0.099186   \n",
       "87590  -1.214678 -1.625537 -0.677161 -0.714352 -0.387393 -0.434543   \n",
       "9682   -0.029290 -0.265326 -0.649369  1.105885 -0.116723 -0.094106   \n",
       "223491 -0.145614  0.082425 -0.517143 -0.491332  0.174666  0.204779   \n",
       "\n",
       "        Scaled_Amount  \n",
       "225184      -0.301974  \n",
       "116637       0.671840  \n",
       "99414       -0.287501  \n",
       "217619       0.726254  \n",
       "279878      -0.348072  \n",
       "65395       -0.179912  \n",
       "242975      -0.349671  \n",
       "87590        0.034505  \n",
       "9682        -0.289460  \n",
       "223491      -0.268150  \n",
       "\n",
       "[10 rows x 30 columns]"
      ]
     },
     "execution_count": 130,
     "metadata": {},
     "output_type": "execute_result"
    }
   ],
   "source": [
    "x_test[:10]"
   ]
  },
  {
   "cell_type": "code",
   "execution_count": 131,
   "metadata": {},
   "outputs": [],
   "source": [
    "predictions = reg.predict(x_test)"
   ]
  },
  {
   "cell_type": "code",
   "execution_count": 132,
   "metadata": {},
   "outputs": [
    {
     "data": {
      "text/plain": [
       "array([0, 0, 0, 0, 0, 0, 0, 0, 0, 0, 0, 0, 0, 0, 0, 0, 1, 0, 0, 0, 0, 0,\n",
       "       0, 0, 0, 0, 0, 0, 0, 0, 0, 0, 0, 0, 0, 0, 0, 0, 0, 0, 0, 0, 0, 0,\n",
       "       0, 0, 0, 0, 0, 0, 0, 0, 0, 0, 0, 0, 0, 0, 0, 0, 0, 0, 0, 0, 0, 0,\n",
       "       0, 0, 0, 0], dtype=int64)"
      ]
     },
     "execution_count": 132,
     "metadata": {},
     "output_type": "execute_result"
    }
   ],
   "source": [
    "reg.predict(x_test[1000:1070])"
   ]
  },
  {
   "cell_type": "code",
   "execution_count": 133,
   "metadata": {},
   "outputs": [
    {
     "data": {
      "text/plain": [
       "0.9993283058040485"
      ]
     },
     "execution_count": 133,
     "metadata": {},
     "output_type": "execute_result"
    }
   ],
   "source": [
    "score = reg.score(x_test, y_test)\n",
    "score"
   ]
  },
  {
   "cell_type": "code",
   "execution_count": 135,
   "metadata": {},
   "outputs": [
    {
     "name": "stdout",
     "output_type": "stream",
     "text": [
      "Accuracy is   99.93283058040485\n"
     ]
    }
   ],
   "source": [
    "print(\"Accuracy is  \", accuracy_score(y_test, predictions)*100)"
   ]
  },
  {
   "cell_type": "code",
   "execution_count": 136,
   "metadata": {},
   "outputs": [
    {
     "data": {
      "text/plain": [
       "array([[65394,    13],\n",
       "       [   31,    68]], dtype=int64)"
      ]
     },
     "execution_count": 136,
     "metadata": {},
     "output_type": "execute_result"
    }
   ],
   "source": [
    "cm = metrics.confusion_matrix(y_test, predictions)\n",
    "cm"
   ]
  },
  {
   "cell_type": "code",
   "execution_count": 137,
   "metadata": {
    "scrolled": true
   },
   "outputs": [
    {
     "data": {
      "image/png": "[encoded data removed]",
      "text/plain": [
       "<Figure size 648x648 with 2 Axes>"
      ]
     },
     "metadata": {
      "needs_background": "light"
     },
     "output_type": "display_data"
    }
   ],
   "source": [
    "plt.figure(figsize=(9,9))\n",
    "sns.heatmap(cm, annot=True, fmt=\".3f\", linewidths=.5, square = True, cmap = 'Blues_r');\n",
    "plt.ylabel('Actual label');\n",
    "plt.xlabel('Predicted label');\n",
    "all_sample_title = 'Accuracy Score: {0}'.format(score)\n",
    "plt.title(all_sample_title, size = 15);"
   ]
  },
  {
   "cell_type": "markdown",
   "metadata": {},
   "source": [
    "## Decision Tree"
   ]
  },
  {
   "cell_type": "code",
   "execution_count": 138,
   "metadata": {},
   "outputs": [],
   "source": [
    "from sklearn.tree import DecisionTreeClassifier\n",
    "from sklearn import tree"
   ]
  },
  {
   "cell_type": "markdown",
   "metadata": {},
   "source": [
    "### 'entropy'"
   ]
  },
  {
   "cell_type": "code",
   "execution_count": 139,
   "metadata": {},
   "outputs": [
    {
     "data": {
      "text/plain": [
       "DecisionTreeClassifier(criterion='entropy', max_depth=3, min_samples_leaf=5,\n",
       "                       random_state=100)"
      ]
     },
     "execution_count": 139,
     "metadata": {},
     "output_type": "execute_result"
    }
   ],
   "source": [
    "clf_entropy = DecisionTreeClassifier(criterion = \"entropy\", random_state= 100, max_depth=3, min_samples_leaf=5)\n",
    "clf_entropy.fit(x_train, y_train)"
   ]
  },
  {
   "cell_type": "code",
   "execution_count": 142,
   "metadata": {},
   "outputs": [
    {
     "data": {
      "text/plain": [
       "array([0, 0, 0, ..., 0, 0, 0], dtype=int64)"
      ]
     },
     "execution_count": 142,
     "metadata": {},
     "output_type": "execute_result"
    }
   ],
   "source": [
    "y_pred = clf_entropy.predict(x_test)\n",
    "y_pred"
   ]
  },
  {
   "cell_type": "code",
   "execution_count": 143,
   "metadata": {
    "scrolled": true
   },
   "outputs": [
    {
     "name": "stdout",
     "output_type": "stream",
     "text": [
      "Accuracy is   99.94656977986749\n"
     ]
    }
   ],
   "source": [
    "print(\"Accuracy is  \", accuracy_score(y_test, y_pred)*100)"
   ]
  },
  {
   "cell_type": "markdown",
   "metadata": {},
   "source": [
    "### 'gini'"
   ]
  },
  {
   "cell_type": "code",
   "execution_count": 144,
   "metadata": {},
   "outputs": [
    {
     "data": {
      "text/plain": [
       "DecisionTreeClassifier(max_depth=3, min_samples_leaf=5, random_state=100)"
      ]
     },
     "execution_count": 144,
     "metadata": {},
     "output_type": "execute_result"
    }
   ],
   "source": [
    "clf_gini = DecisionTreeClassifier(criterion = \"gini\", random_state= 100, max_depth=3, min_samples_leaf=5)\n",
    "clf_gini.fit(x_train, y_train)"
   ]
  },
  {
   "cell_type": "code",
   "execution_count": 145,
   "metadata": {},
   "outputs": [
    {
     "data": {
      "text/plain": [
       "array([0, 0, 0, ..., 0, 0, 0], dtype=int64)"
      ]
     },
     "execution_count": 145,
     "metadata": {},
     "output_type": "execute_result"
    }
   ],
   "source": [
    "y_pred_gini = clf_entropy.predict(x_test)\n",
    "y_pred_gini"
   ]
  },
  {
   "cell_type": "code",
   "execution_count": 146,
   "metadata": {},
   "outputs": [
    {
     "name": "stdout",
     "output_type": "stream",
     "text": [
      "Accuracy is   99.94656977986749\n"
     ]
    }
   ],
   "source": [
    "print(\"Accuracy is  \", accuracy_score(y_test, y_pred_gini)*100)"
   ]
  },
  {
   "cell_type": "markdown",
   "metadata": {},
   "source": [
    "## Gradient Boosting (GBM)"
   ]
  },
  {
   "cell_type": "code",
   "execution_count": 12,
   "metadata": {},
   "outputs": [],
   "source": [
    "from sklearn.ensemble import GradientBoostingClassifier\n",
    "gbm = GradientBoostingClassifier(random_state=10)"
   ]
  },
  {
   "cell_type": "code",
   "execution_count": 13,
   "metadata": {},
   "outputs": [
    {
     "data": {
      "text/plain": [
       "GradientBoostingClassifier(random_state=10)"
      ]
     },
     "execution_count": 13,
     "metadata": {},
     "output_type": "execute_result"
    }
   ],
   "source": [
    "gbm.fit(x_train, y_train)"
   ]
  },
  {
   "cell_type": "code",
   "execution_count": 14,
   "metadata": {},
   "outputs": [],
   "source": [
    "pred_gbm = gbm.predict(x_test)\n",
    "pred_gbm_prob = gbm.predict_proba(x_test)"
   ]
  },
  {
   "cell_type": "code",
   "execution_count": 16,
   "metadata": {},
   "outputs": [],
   "source": [
    "feat = [x for x in x_train.columns ]\n",
    "feat_imp = pd.Series(gbm.feature_importances_, feat).sort_values(ascending=False)"
   ]
  },
  {
   "cell_type": "code",
   "execution_count": 17,
   "metadata": {},
   "outputs": [
    {
     "data": {
      "text/plain": [
       "Text(0, 0.5, 'Feature Importance Score')"
      ]
     },
     "execution_count": 17,
     "metadata": {},
     "output_type": "execute_result"
    },
    {
     "data": {
      "image/png": "[encoded data removed]",
      "text/plain": [
       "<Figure size 432x288 with 1 Axes>"
      ]
     },
     "metadata": {
      "needs_background": "light"
     },
     "output_type": "display_data"
    }
   ],
   "source": [
    "feat_imp = pd.Series(gbm.feature_importances_, feat).sort_values(ascending=False)\n",
    "feat_imp.plot(kind='bar', title='Feature Importances')\n",
    "plt.ylabel('Feature Importance Score')"
   ]
  },
  {
   "cell_type": "code",
   "execution_count": 19,
   "metadata": {},
   "outputs": [],
   "source": [
    "cv_score = cross_validate(gbm, x_train, y_train, cv=5, scoring='roc_auc')"
   ]
  },
  {
   "cell_type": "code",
   "execution_count": 20,
   "metadata": {},
   "outputs": [
    {
     "data": {
      "text/plain": [
       "{'fit_time': array([468.4870429 , 474.89909196, 548.17790031, 471.15540123,\n",
       "        483.76362514]),\n",
       " 'score_time': array([0.15790606, 0.14491248, 0.15390635, 0.14591074, 0.14691043]),\n",
       " 'test_score': array([0.67709651, 0.82030989, 0.8712754 , 0.50028233, 0.85310546])}"
      ]
     },
     "execution_count": 20,
     "metadata": {},
     "output_type": "execute_result"
    }
   ],
   "source": [
    "cv_score"
   ]
  },
  {
   "cell_type": "code",
   "execution_count": 21,
   "metadata": {},
   "outputs": [
    {
     "data": {
      "text/plain": [
       "0.802938569729586"
      ]
     },
     "execution_count": 21,
     "metadata": {},
     "output_type": "execute_result"
    }
   ],
   "source": [
    "roc_auc_score(y_test, pred_gbm)"
   ]
  },
  {
   "cell_type": "code",
   "execution_count": 22,
   "metadata": {},
   "outputs": [
    {
     "name": "stdout",
     "output_type": "stream",
     "text": [
      "AUC Score (Train): %f : 0.69179989229831\n"
     ]
    }
   ],
   "source": [
    "print (\"AUC Score (Train): %f :\", roc_auc_score(y_test, pred_gbm_prob[:,1]))"
   ]
  },
  {
   "cell_type": "code",
   "execution_count": 23,
   "metadata": {
    "scrolled": true
   },
   "outputs": [
    {
     "name": "stdout",
     "output_type": "stream",
     "text": [
      "Accuracy is   99.92214453637834\n"
     ]
    }
   ],
   "source": [
    "print(\"Accuracy is  \", accuracy_score(y_test, pred_gbm)*100)"
   ]
  }
 ],
 "metadata": {
  "kernelspec": {
   "display_name": "Python 3",
   "language": "python",
   "name": "python3"
  },
  "language_info": {
   "codemirror_mode": {
    "name": "ipython",
    "version": 3
   },
   "file_extension": ".py",
   "mimetype": "text/x-python",
   "name": "python",
   "nbconvert_exporter": "python",
   "pygments_lexer": "ipython3",
   "version": "3.7.9"
  }
 },
 "nbformat": 4,
 "nbformat_minor": 4
}
